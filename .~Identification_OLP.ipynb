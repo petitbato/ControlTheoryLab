{
 "cells": [
  {
   "cell_type": "markdown",
   "id": "c3c8028f-2d5b-46e6-9feb-b6ca0963e307",
   "metadata": {},
   "source": [
    "Load data"
   ]
  },
  {
   "cell_type": "code",
   "execution_count": null,
   "id": "6e2287fd-e16e-499b-bcad-481f3ae6eb0d",
   "metadata": {},
   "outputs": [],
   "source": [
    "nameFile = 'Cleaned_data_Open_loop_experiment_on_MV_copy.txt'\n",
    "\n",
    "titleName = nameFile.split('.')[0]    \n",
    "data = pd.read_csv('Data/' + nameFile)\n",
    "\n",
    "if 'MV' in nameFile:\n",
    "    ExpVariable = 'MV'\n",
    "    tm = data['tm'].values\n",
    "    MVm = data['MVm'].values\n",
    "    PVm = data['PVm'].values    \n",
    "else:    \n",
    "    ExpVariable = 'DV'\n",
    "    tm = data['tm'].values\n",
    "    DVm = data['DVm'].values \n",
    "    PVm = data['PVm'].values\n",
    "     \n",
    "print(ExpVariable) "
   ]
  }
 ],
 "metadata": {
  "kernelspec": {
   "display_name": "Python 3 (ipykernel)",
   "language": "python",
   "name": "python3"
  },
  "language_info": {
   "codemirror_mode": {
    "name": "ipython",
    "version": 3
   },
   "file_extension": ".py",
   "mimetype": "text/x-python",
   "name": "python",
   "nbconvert_exporter": "python",
   "pygments_lexer": "ipython3",
   "version": "3.11.7"
  }
 },
 "nbformat": 4,
 "nbformat_minor": 5
}
